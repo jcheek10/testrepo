{
 "cells": [
  {
   "cell_type": "markdown",
   "id": "34d3b0cf-670b-49c2-afa8-6534d0932ad0",
   "metadata": {},
   "source": [
    "# My Jupyter Notebook on Skills Network LTI Item"
   ]
  },
  {
   "cell_type": "markdown",
   "id": "46408baf-54ff-496d-8a76-007b1e1926c7",
   "metadata": {},
   "source": [
    "**Jelani Cheek**\n",
    "\n",
    "   Research Scientist"
   ]
  },
  {
   "cell_type": "markdown",
   "id": "7fbb2fa6-7f36-42a5-bd85-d38247c8ea18",
   "metadata": {},
   "source": [
    "*I am interested in data science because data holds the answer to many of the questions we ask ourselves everyday. I am a very curious individual and exploring and visualizing data is exciting.*"
   ]
  },
  {
   "cell_type": "markdown",
   "id": "1f2c28a2-ec11-45cd-8715-f4419c0ec159",
   "metadata": {},
   "source": [
    "### In the next cell (cell 5), my code will execute a print statement, stating \"Hello World\"."
   ]
  },
  {
   "cell_type": "code",
   "execution_count": 2,
   "id": "230cffba-f397-43b1-9138-55394ca2f722",
   "metadata": {},
   "outputs": [
    {
     "name": "stdout",
     "output_type": "stream",
     "text": [
      "Hello World\n"
     ]
    }
   ],
   "source": [
    "print(\"Hello World\")"
   ]
  },
  {
   "cell_type": "markdown",
   "id": "e8418965-d147-40af-8f6b-43c2bfa64d4b",
   "metadata": {},
   "source": [
    "### In this last cell, I'm going to create the following: A bullet list, numbered list, and image of a dog.\n",
    "\n",
    "#### Bullet list of pets in no order\n",
    "\n",
    " * Dog\n",
    " * Cat\n",
    " * Hamster\n",
    "        \n",
    "#### Numbered list of favorite sports in order\n",
    " 1. Basketball\n",
    " 2. American Football\n",
    " 3. Tennis\n",
    "        \n",
    "#### Below will include an image of a dog!\n",
    "\n",
    "![Image of dog here](https://hips.hearstapps.com/hmg-prod.s3.amazonaws.com/images/little-cute-maltipoo-puppy-royalty-free-image-1652926025.jpg?crop=0.444xw:1.00xh;0.129xw,0&resize=980:*)"
   ]
  },
  {
   "cell_type": "code",
   "execution_count": null,
   "id": "5167476c-58fc-4669-bf08-45fb05102d0e",
   "metadata": {},
   "outputs": [],
   "source": []
  }
 ],
 "metadata": {
  "kernelspec": {
   "display_name": "Python",
   "language": "python",
   "name": "conda-env-python-py"
  },
  "language_info": {
   "codemirror_mode": {
    "name": "ipython",
    "version": 3
   },
   "file_extension": ".py",
   "mimetype": "text/x-python",
   "name": "python",
   "nbconvert_exporter": "python",
   "pygments_lexer": "ipython3",
   "version": "3.7.12"
  }
 },
 "nbformat": 4,
 "nbformat_minor": 5
}
