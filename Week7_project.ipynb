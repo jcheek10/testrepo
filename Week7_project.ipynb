{
 "cells": [
  {
   "cell_type": "code",
   "execution_count": null,
   "metadata": {},
   "outputs": [],
   "source": [
    "pip install pandas"
   ]
  },
  {
   "cell_type": "code",
   "execution_count": null,
   "metadata": {},
   "outputs": [],
   "source": [
    "#The following describes the dataset variables:\n",
    "\n",
    "# CRIM - per capita crime rate by town\n",
    "\n",
    "#      ZN - proportion of residential land zoned for lots over 25,000 sq.ft.\n",
    "\n",
    "#     INDUS - proportion of non-retail business acres per town.\n",
    "\n",
    "#      CHAS - Charles River dummy variable (1 if tract bounds river; 0 otherwise)\n",
    "\n",
    "#      NOX - nitric oxides concentration (parts per 10 million)\n",
    "\n",
    "#      RM - average number of rooms per dwelling\n",
    "\n",
    "#      AGE - proportion of owner-occupied units built prior to 1940\n",
    "\n",
    "#      DIS - weighted distances to five Boston employment centres\n",
    "\n",
    "#      RAD - index of accessibility to radial highways\n",
    "\n",
    "#      TAX - full-value property-tax rate per $10,000\n",
    "\n",
    "#      PTRATIO - pupil-teacher ratio by town\n",
    "\n",
    "#      LSTAT - % lower status of the population\n",
    "\n",
    "#      MEDV - Median value of owner-occupied homes in $1000's"
   ]
  },
  {
   "cell_type": "code",
   "execution_count": null,
   "metadata": {},
   "outputs": [],
   "source": [
    "import pandas as pd"
   ]
  },
  {
   "cell_type": "code",
   "execution_count": null,
   "metadata": {},
   "outputs": [],
   "source": [
    "pip install matplotlib"
   ]
  },
  {
   "cell_type": "code",
   "execution_count": null,
   "metadata": {},
   "outputs": [],
   "source": [
    "import matplotlib.pyplot as plt"
   ]
  },
  {
   "cell_type": "code",
   "execution_count": null,
   "metadata": {},
   "outputs": [],
   "source": [
    "boston_url = 'https://cf-courses-data.s3.us.cloud-object-storage.appdomain.cloud/IBMDeveloperSkillsNetwork-ST0151EN-SkillsNetwork/labs/boston_housing.csv'\n",
    "boston_df=pd.read_csv(boston_url)"
   ]
  },
  {
   "cell_type": "code",
   "execution_count": null,
   "metadata": {},
   "outputs": [],
   "source": [
    "#For the \"Median value of owner-occupied homes\" provide a boxplot\n",
    "\n",
    "plt.boxplot(boston_df['MEDV'])\n",
    "\n",
    "plt.title(\"Median value of Owner-occupied homes\")\n",
    "\n",
    "plt.show()\n",
    "\n",
    "#The median home value is slightly over $20,0000 with outliers near and above $40,000"
   ]
  },
  {
   "cell_type": "code",
   "execution_count": null,
   "metadata": {},
   "outputs": [],
   "source": [
    "#Create a barplot for the charles river variable\n",
    "\n",
    "plt.bar(boston_df['CHAS'], height=50)"
   ]
  },
  {
   "cell_type": "code",
   "execution_count": null,
   "metadata": {},
   "outputs": [],
   "source": [
    "# Provide a boxplot for the MEDV variable vs the AGE variable. (\n",
    "# Discretize the age variable into three groups of 35 years and younger, between 35 and 70 years and 70 years and older)\n",
    "\n",
    "def age_group(age):\n",
    "    if age <= 35:\n",
    "        return \"35 years and younger\"\n",
    "    elif 35 < age <= 70:\n",
    "        return \"between 35 and 70\"\n",
    "    else:\n",
    "        return \"older than 70\"\n",
    "\n",
    "boston_df['AGE GROUP'] = boston_df['AGE'].apply(age_group)\n"
   ]
  },
  {
   "cell_type": "code",
   "execution_count": null,
   "metadata": {},
   "outputs": [],
   "source": [
    "pip install seaborn"
   ]
  },
  {
   "cell_type": "code",
   "execution_count": null,
   "metadata": {},
   "outputs": [],
   "source": [
    "import seaborn as sns"
   ]
  },
  {
   "cell_type": "code",
   "execution_count": null,
   "metadata": {},
   "outputs": [],
   "source": [
    "sns.boxplot(x=boston_df['AGE GROUP'], y=boston_df['MEDV'])\n",
    "\n",
    "plt.xlabel('Age Group')\n",
    "plt.ylabel('MEDV')\n",
    "plt.title ('MEDV by Age group')\n",
    "\n",
    "plt.show()\n",
    "\n",
    "#The medium home value for those age 70+ is the lowest, although there are many outlier points much greater the median. "
   ]
  },
  {
   "cell_type": "code",
   "execution_count": null,
   "metadata": {},
   "outputs": [],
   "source": [
    "# Provide a scatter plot to show the relationship between Nitric oxide concentrations and the proportion of non-retail business acres per town. \n",
    "# What can you say about the relationship?\n",
    "\n",
    "plt.scatter(boston_df['INDUS'], boston_df['NOX'])\n",
    "\n",
    "plt.xlabel('Proportion of non-reteail business acres per town')\n",
    "plt.ylabel('Nitric Oxide concentrations')\n",
    "plt.title('Relationship between Nitric oxide concentrations and proportion of non-retail business acres per town')\n",
    "\n",
    "plt.show()\n",
    "\n",
    "#As the proportion of non-retail business acres per town increases, nitric oxide concentration increases, suggesting a positive relationship between\n",
    "# land area and nitric oxide concentrations, "
   ]
  },
  {
   "cell_type": "code",
   "execution_count": null,
   "metadata": {},
   "outputs": [],
   "source": [
    "#Create a histogram for the pupil to teacher ratio variable\n",
    "plt.hist(boston_df['PTRATIO'], bins=10)\n",
    "plt.title('Histogram for the pupil to teacher ratio')\n",
    "\n",
    "plt.show()\n",
    "\n",
    "#The median histogram for pupil to teacher ratio is around 18"
   ]
  },
  {
   "cell_type": "code",
   "execution_count": null,
   "metadata": {},
   "outputs": [],
   "source": [
    "# For each of the following questions;\n",
    "# Is there a significant difference in median value of houses bounded by the Charles river or not? (T-test for independent samples)\n",
    "# Is there a difference in Median values of houses (MEDV) for each proportion of owner occupied units built prior to 1940 (AGE)? (ANOVA)\n",
    "# Can we conclude that there is no relationship between Nitric oxide concentrations and proportion of non-retail business acres per town? (Pearson Correlation)\n",
    "# What is the impact of an additional weighted distance to the five Boston employment centres on the median value of owner occupied homes? (Regression analysis)\n",
    "\n",
    "# Be sure to:\n",
    "# State your hypothesis.\n",
    "# Use α = 0.05\n",
    "# Perform the test Statistics.\n",
    "#State the conclusion from the test."
   ]
  },
  {
   "cell_type": "code",
   "execution_count": null,
   "metadata": {},
   "outputs": [],
   "source": [
    "pip install scipy\n"
   ]
  },
  {
   "cell_type": "code",
   "execution_count": null,
   "metadata": {},
   "outputs": [],
   "source": [
    "import scipy.stats as stats"
   ]
  },
  {
   "cell_type": "code",
   "execution_count": null,
   "metadata": {},
   "outputs": [],
   "source": [
    "# Is there a significant difference in median value of houses bounded by the Charles river or not? (T-test for independent samples)\n",
    "t_statistic, p_value = stats.ttest_ind(boston_df['MEDV'], boston_df['CHAS'])\n",
    "\n",
    "print(\"t-statistic:\", t_statistic)\n",
    "print(\"p-value:\", p_value)\n",
    "\n",
    "# t-statistic: 54.9210289745203\n",
    "# p-value: 1.4651540072350996e-305\n",
    "# Reject the null hypothesis that there is a significant difference in median home value for homes bounded by the charles river and not"
   ]
  },
  {
   "cell_type": "code",
   "execution_count": null,
   "metadata": {},
   "outputs": [],
   "source": [
    "# Is there a difference in Median values of houses (MEDV) for each proportion of owner occupied units built prior to 1940 (AGE)? (ANOVA)\n",
    "f_statistic, p_value = stats.f_(boston_df['MEDV'], boston_df['AGE'])\n",
    "\n",
    "print('f_statistic', f_statistic)\n",
    "print('p-value', p_value)\n",
    "\n",
    "#f_statistic 1223.1740271875933\n",
    "#p-value 3.20946197250671e-176\n",
    "#Reject the null hypothesis that there is a significant difference in median home value for each proportion of owner occupied units built prior to 1940 "
   ]
  },
  {
   "cell_type": "code",
   "execution_count": null,
   "metadata": {},
   "outputs": [],
   "source": [
    "# Can we conclude that there is no relationship between Nitric oxide concentrations and proportion of non-retail business acres per town? (Pearson Correlation)\n",
    "correlation_coefficent, p_value = stats.pearsonr(boston_df['NOX'], boston_df['INDUS'])\n",
    "\n",
    "print('correlation_coefficient', correlation_coefficent)\n",
    "print('p-value', p_value)\n",
    "\n",
    "#correlation_coefficient 0.7636514469209157\n",
    "#p-value 7.913361061236247e-98\n",
    "\n",
    "#We can reject the null hypothesis and conclude that there is a relationship between nitric oxide concentrations and proportion of non-retail business acres per town"
   ]
  },
  {
   "cell_type": "code",
   "execution_count": null,
   "metadata": {},
   "outputs": [],
   "source": [
    "# What is the impact of an additional weighted distance to the five Boston employment centres on the median value of owner occupied homes? (Regression analysis)\n",
    "regression = stats.linregress(boston_df['DIS'], boston_df['MEDV'])\n",
    "\n",
    "slope = regression.slope\n",
    "intercept = regression.intercept\n",
    "p_value_r = regression.pvalue\n",
    "stderr = regression.stderr\n",
    "\n",
    "print('linear regression: y=',slope, '* x+ ', intercept)\n",
    "print('p-value:', p_value_r)\n",
    "print('Standard error:', stderr)\n",
    "\n",
    "# linear regression: y= 1.0916130158411095 * x+  18.390088330493384\n",
    "# p-value: 1.2066117273371046e-08\n",
    "# Standard error: 0.18837841478683098#\n",
    "\n",
    "#There is a statistically significant association between addtional weighted distance to the five boston employment centers and median value of owner occupied homes"
   ]
  }
 ],
 "metadata": {
  "interpreter": {
   "hash": "aee8b7b246df8f9039afb4144a1f6fd8d2ca17a180786b69acc140d282b71a49"
  },
  "kernelspec": {
   "display_name": "Python 3.11.2 64-bit",
   "name": "python3"
  },
  "language_info": {
   "codemirror_mode": {
    "name": "ipython",
    "version": 3
   },
   "file_extension": ".py",
   "mimetype": "text/x-python",
   "name": "python",
   "nbconvert_exporter": "python",
   "pygments_lexer": "ipython3",
   "version": "3.11.2"
  },
  "orig_nbformat": 4
 },
 "nbformat": 4,
 "nbformat_minor": 2
}
